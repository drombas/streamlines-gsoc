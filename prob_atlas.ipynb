{
 "cells": [
  {
   "cell_type": "code",
   "execution_count": null,
   "id": "6b828573-11fe-4f63-afe3-d3eb56e195d3",
   "metadata": {},
   "outputs": [],
   "source": []
  },
  {
   "cell_type": "markdown",
   "id": "d9292c16-638c-4ae1-b6a9-db9c7c9d2d74",
   "metadata": {},
   "source": [
    "## **Probabilistic Atlas Bundle**"
   ]
  },
  {
   "cell_type": "markdown",
   "id": "5bc5833f-4990-417f-b1c5-78cd61e09b27",
   "metadata": {},
   "source": [
    "### Import libraries"
   ]
  },
  {
   "cell_type": "code",
   "execution_count": null,
   "id": "c9206505-b7d8-416f-b08d-08628ce5f92a",
   "metadata": {},
   "outputs": [],
   "source": [
    "from fury.colormap import colormap_lookup_table\n",
    "import numpy as np\n",
    "import pandas as pd\n",
    "import matplotlib.pyplot as plt\n",
    "\n",
    "import nibabel as nib\n",
    "from nibabel.streamlines.array_sequence import concatenate\n",
    "from dipy.io.image import load_nifti, save_nifti\n",
    "from dipy.io.streamline import load_trk\n",
    "from dipy.tracking.streamline import (unlist_streamlines, relist_streamlines,\n",
    "                                      transform_streamlines, values_from_volume,\n",
    "                                      set_number_of_points)\n",
    "\n",
    "from fury import window, actor"
   ]
  },
  {
   "cell_type": "markdown",
   "id": "3a17fe1a-1106-475b-a8cd-36d756ff8e3a",
   "metadata": {},
   "source": [
    "### Prepare data"
   ]
  },
  {
   "cell_type": "code",
   "execution_count": null,
   "id": "7be4fecd-72ab-43bb-8399-d405592bdef9",
   "metadata": {},
   "outputs": [],
   "source": [
    "in_dir = \n",
    "out_dir = \n",
    "subjects = pd.read_csv(in_dir + 'subjects.csv')\n",
    "n_subject = subjects.shape[0]\n",
    "tract = 'AF_L'\n",
    "n_points = 20\n",
    "save_atlas = False\n",
    "\n",
    "# Load MNI template \"\"\"\n",
    "image, affine = load_nifti('../data/mni_template/mni_icbm152_t1_tal_nlin_asym_09a.nii')\n",
    "dims = np.asarray(image.shape)\n",
    "affine_inv = np.linalg.inv(affine)"
   ]
  },
  {
   "cell_type": "markdown",
   "id": "968ab6f6-c93d-4064-8c27-e7d030fd26af",
   "metadata": {},
   "source": [
    "### Construct probabilistic atlas"
   ]
  },
  {
   "cell_type": "code",
   "execution_count": null,
   "id": "586f5081-c1a8-4f7e-a531-1b4862b099c2",
   "metadata": {},
   "outputs": [],
   "source": [
    "# Loop through subjects \"\"\"\n",
    "dims_mask = np.concatenate((dims, [n_subject]))\n",
    "mask = np.zeros(dims_mask)\n",
    "\n",
    "for ind, sub in enumerate(subjects.subject):\n",
    "    # Load trk file\n",
    "    file = f'{in_dir}/{sub}/rec_bundles/moved_{tract}__recognized.trk'\n",
    "    bundle_obj = load_trk(file, reference='same', bbox_valid_check=False)\n",
    "\n",
    "    # Get streamlines\n",
    "    points, offset = unlist_streamlines(bundle_obj.streamlines)\n",
    "    streamlines = relist_streamlines(points, offset)\n",
    "    streamlines = set_number_of_points(streamlines, n_points)\n",
    "\n",
    "    # Transform coordinates to voxel space\n",
    "    streamlines_vox = transform_streamlines(streamlines, affine_inv)\n",
    "\n",
    "    # Round voxel coordinates and cast them to int\n",
    "    points, offsets = unlist_streamlines(streamlines_vox)\n",
    "    streamlines_ind = np.round(points).astype('int')\n",
    "\n",
    "    # Create coverage mask\n",
    "    n_point = streamlines_ind.shape[0]\n",
    "    for i_stream in range(n_point):\n",
    "        i = streamlines_ind[i_stream, 0]\n",
    "        j = streamlines_ind[i_stream, 1]\n",
    "        k = streamlines_ind[i_stream, 2]\n",
    "\n",
    "        mask[i, j, k, ind] = 1\n",
    "\n",
    "# Combine subject coverage masks\n",
    "prob_atlas = mask.sum(axis=3)/n_subject\n",
    "\n",
    "# Save the atlas\n",
    "if save_atlas:\n",
    "    file = f'{out_dir}/prob_atlas_{tract}.nii'\n",
    "    save_nifti(file, prob_atlas, affine)"
   ]
  },
  {
   "cell_type": "code",
   "execution_count": null,
   "id": "ec082d56-5834-4ad8-95c3-dc21aa81e5b6",
   "metadata": {},
   "outputs": [],
   "source": [
    "# Plot atlas"
   ]
  },
  {
   "cell_type": "markdown",
   "id": "4ae18b13-73d6-4122-a14e-6223d2c7d0f5",
   "metadata": {},
   "source": [
    "### Map probabilistic map to streamlines"
   ]
  },
  {
   "cell_type": "code",
   "execution_count": null,
   "id": "36b7e85c-4d82-4ca0-bfdf-8e1804bf8bb8",
   "metadata": {},
   "outputs": [],
   "source": [
    "\"\"\" Merge all streamlines \"\"\"\n",
    "merged_bundles = concatenate(streamlines_all, axis=0)\n",
    "\n",
    "\"\"\" Map data to streamline space \"\"\"\n",
    "cov = values_from_volume(prob_atlas, merged_bundles, affine)\n",
    "mean_cov = np.float_(list(map(np.mean, cov)))\n",
    "\n",
    "\"\"\" Plot mean coverage distribution \"\"\"\n",
    "plt.hist(mean_cov)\n",
    "plt.xlabel('mean coverage')\n",
    "plt.ylabel('streamlines')\n",
    "\n",
    "\"\"\" Render all streamlines + map density values to each segment \"\"\"\n",
    "scene = window.Scene()\n",
    "scene.SetBackground(1, 1, 1)\n",
    "aux = transform_streamlines(merged_bundles, affine_inv)\n",
    "stream_actor = actor.line(aux, prob_atlas, linewidth=0.1, opacity=0.4)\n",
    "scene.add(stream_actor)\n",
    "bar = actor.scalar_bar()\n",
    "scene.add(bar)\n",
    "window.show(scene)\n",
    "\n",
    "\"\"\" Render all streamlines using color from mean_cov \"\"\"\n",
    "scene.clear()\n",
    "scene.SetBackground(1, 1, 1)\n",
    "# Adjust range of the colormap (rainbow) to min/max coverage values\n",
    "lut_cmap = colormap_lookup_table(scale_range=(mean_cov.min(), mean_cov.max()))\n",
    "# Blue colormap\n",
    "# hue = (0.5, 0.5)  # blue only\n",
    "# saturation = (0.0, 1.0)  # black to white\n",
    "\n",
    "# lut_cmap = actor.colormap_lookup_table(\n",
    "#     scale_range=(mean_cov.min(), mean_cov.max()),\n",
    "#     hue_range=hue,\n",
    "#     saturation_range=saturation)\n",
    "\n",
    "# Create streamlines\n",
    "stream_actor = actor.line(aux, mean_cov.astype('float'), linewidth=0.1,\n",
    "                          lookup_colormap=lut_cmap, opacity=0.2)\n",
    "scene.add(stream_actor)\n",
    "# Add colorbar\n",
    "bar = actor.scalar_bar(lut_cmap)\n",
    "scene.add(bar)\n",
    "# Render\n",
    "window.show(scene)\n"
   ]
  }
 ],
 "metadata": {
  "kernelspec": {
   "display_name": "Python 3",
   "language": "python",
   "name": "python3"
  },
  "language_info": {
   "codemirror_mode": {
    "name": "ipython",
    "version": 3
   },
   "file_extension": ".py",
   "mimetype": "text/x-python",
   "name": "python",
   "nbconvert_exporter": "python",
   "pygments_lexer": "ipython3",
   "version": "3.7.10"
  }
 },
 "nbformat": 4,
 "nbformat_minor": 5
}
