{
 "cells": [
  {
   "cell_type": "markdown",
   "id": "39a9283a-1dd1-4ff4-b8b8-2373878b572a",
   "metadata": {},
   "source": [
    "<table width=\"50%\"><tr>\n",
    "<td> <img src=\"../../img/dipy_logo.png\" align=\"left\" alt=\"Drawing\" style=\"width: 155px;\"/> </td>\n",
    "<td> <img src=\"../../img/gsoc_logo.png\" align=\"right\" alt=\"Drawing\" style=\"width: 220px;\"/> </td>\n",
    "</tr></table>"
   ]
  },
  {
   "cell_type": "markdown",
   "id": "c8aa7188-7908-4a31-84df-48094369006a",
   "metadata": {},
   "source": [
    "**Student**\\\n",
    "David Romero-Bascones\\\n",
    "**Mentors**\\\n",
    "Bramsh Qamar Chandio\\\n",
    "Shreyas Fadnavis\\\n",
    "Jong Sung Park"
   ]
  },
  {
   "cell_type": "markdown",
   "id": "6104911c-d0a3-4d31-838b-bdb78fbf8dbf",
   "metadata": {},
   "source": [
    "# **Graph matching tests**"
   ]
  },
  {
   "cell_type": "markdown",
   "id": "1c2f87c2-cd42-48ad-b1c6-9f3fe6acec7f",
   "metadata": {},
   "source": [
    "Based on the work by Olivetti et al. "
   ]
  },
  {
   "cell_type": "code",
   "execution_count": null,
   "id": "6fb3cdf7-c2e3-414f-995a-dbe48665afcf",
   "metadata": {},
   "outputs": [],
   "source": []
  }
 ],
 "metadata": {
  "kernelspec": {
   "display_name": "Python 3",
   "language": "python",
   "name": "python3"
  },
  "language_info": {
   "codemirror_mode": {
    "name": "ipython",
    "version": 3
   },
   "file_extension": ".py",
   "mimetype": "text/x-python",
   "name": "python",
   "nbconvert_exporter": "python",
   "pygments_lexer": "ipython3",
   "version": "3.7.10"
  }
 },
 "nbformat": 4,
 "nbformat_minor": 5
}
